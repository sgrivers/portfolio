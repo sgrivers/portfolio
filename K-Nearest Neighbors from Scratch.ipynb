{
 "cells": [
  {
   "cell_type": "markdown",
   "metadata": {},
   "source": [
    "# Homegrown K-Nearest Neighbors Machine Learning Algorithm"
   ]
  },
  {
   "cell_type": "markdown",
   "metadata": {},
   "source": [
    "## Stephen Grivers ISA330 "
   ]
  },
  {
   "cell_type": "code",
   "execution_count": 31,
   "metadata": {},
   "outputs": [],
   "source": [
    "from sklearn.datasets import load_iris\n",
    "from sklearn.model_selection import train_test_split\n",
    "from sklearn.metrics import accuracy_score\n",
    "from collections import Counter\n",
    "import numpy as np\n",
    "iris = load_iris()\n",
    "X_train, X_test, y_train, y_test = train_test_split(iris.data, iris.target,\n",
    "                                                    stratify=iris.target, test_size=0.5, random_state=4)"
   ]
  },
  {
   "cell_type": "code",
   "execution_count": 32,
   "metadata": {},
   "outputs": [],
   "source": [
    "def get_distances(X_train,X_test):\n",
    "    distances = []\n",
    "    for i in range(len(X_train)):\n",
    "        distances.append([(sum((X_test - X_train[i, :])**2))**0.5, i])\n",
    "    distances = sorted(distances)\n",
    "    return distances"
   ]
  },
  {
   "cell_type": "code",
   "execution_count": 33,
   "metadata": {},
   "outputs": [],
   "source": [
    "def validate(X_train, y_train, X_test, n):\n",
    "    targets = []\n",
    "    for i in range(n):\n",
    "        index = get_distances(X_train,X_test)[i][1]\n",
    "        targets.append(y_train[index])\n",
    "    return Counter(targets).most_common(1)[0][0]"
   ]
  },
  {
   "cell_type": "code",
   "execution_count": 34,
   "metadata": {},
   "outputs": [],
   "source": [
    "def accuracy_test(y_test, classes):\n",
    "    accuracy = 100 * accuracy_score(y_test, predictions)\n",
    "    return accuracy"
   ]
  },
  {
   "cell_type": "code",
   "execution_count": 35,
   "metadata": {},
   "outputs": [],
   "source": [
    "def k_nearest_neighbors(X_train, y_train, X_test, n):\n",
    "    tests = []\n",
    "    for i in range(len(X_test)):\n",
    "        tests.append(validate(X_train, y_train, X_test[i, :], n))\n",
    "    return np.asarray(tests)"
   ]
  },
  {
   "cell_type": "code",
   "execution_count": 36,
   "metadata": {},
   "outputs": [
    {
     "name": "stdout",
     "output_type": "stream",
     "text": [
      "The accuracy of the KNN with k = 5 on the held out test set is 98.67%\n"
     ]
    }
   ],
   "source": [
    "n = 5\n",
    "predictions = k_nearest_neighbors(X_train, y_train, X_test, n)\n",
    "accuracy=accuracy_test(y_test,predictions)\n",
    "print(f'The accuracy of the KNN with k = {n} on the held out test set is {accuracy:.4}%') "
   ]
  }
 ],
 "metadata": {
  "kernelspec": {
   "display_name": "Python 3",
   "language": "python",
   "name": "python3"
  },
  "language_info": {
   "codemirror_mode": {
    "name": "ipython",
    "version": 3
   },
   "file_extension": ".py",
   "mimetype": "text/x-python",
   "name": "python",
   "nbconvert_exporter": "python",
   "pygments_lexer": "ipython3",
   "version": "3.6.10"
  },
  "toc": {
   "base_numbering": 1,
   "nav_menu": {},
   "number_sections": true,
   "sideBar": true,
   "skip_h1_title": false,
   "title_cell": "Table of Contents",
   "title_sidebar": "Contents",
   "toc_cell": false,
   "toc_position": {},
   "toc_section_display": true,
   "toc_window_display": false
  }
 },
 "nbformat": 4,
 "nbformat_minor": 2
}
