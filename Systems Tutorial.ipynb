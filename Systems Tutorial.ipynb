{
 "cells": [
  {
   "cell_type": "markdown",
   "metadata": {},
   "source": [
    "# Integrating Dynamical Systems Tutorial\n",
    "## Stephen Grivers - sgrivers@bryant.edu - SCI378"
   ]
  },
  {
   "cell_type": "markdown",
   "metadata": {},
   "source": [
    "# Objective"
   ]
  },
  {
   "cell_type": "markdown",
   "metadata": {},
   "source": [
    "The objective of this tutorial is for you to learn how to use Python to run and visualize mathematical simulations and data of theoretical and real-world systems.\n",
    "\n",
    "When you have completed this tutorial, you will be able to understand the logic of an algorithm or program, know what the python operators do and when to use them, understand the relationship between math and programming, and how how to utilize Pandas and other packages to clearly view and present data."
   ]
  },
  {
   "cell_type": "markdown",
   "metadata": {},
   "source": [
    "# Introduction to Python"
   ]
  },
  {
   "cell_type": "markdown",
   "metadata": {},
   "source": [
    "Python is a programming language that can be either used as a very simple scripting language or a very complex high-level language.  Its intuitive math operators and functions make it a very good calculator, and is a very good choice for running simulations on dynamical systems.  For the purpose of this tutorial, many aspects of Python will not be fully explained, and the explanations will simply focus on the objectives of the tutorial.\n",
    "\n",
    "For further study of Python, the documentation can be found here:\n",
    "\n",
    "https://docs.python.org/3/"
   ]
  },
  {
   "cell_type": "markdown",
   "metadata": {},
   "source": [
    "# Progamming Logic"
   ]
  },
  {
   "cell_type": "markdown",
   "metadata": {},
   "source": [
    "When given a problem that is too tedious, or uses too high of numbers for a reasonable human being, Python can be used to make things possible."
   ]
  },
  {
   "cell_type": "markdown",
   "metadata": {},
   "source": [
    "## Example: Find the sum of all the multiples of 3 or 5 below 1000."
   ]
  },
  {
   "cell_type": "markdown",
   "metadata": {},
   "source": [
    "Here is an example of a problem that is too tedious to do by hand.  By hand, you would presumably have to count up to 1000, writing down each multiple of 3 or 5 as you get to them, and then add up those written numbers at the end.  This would take a decent amount of time - much more than it would take to write a loop in Python to do this for you."
   ]
  },
  {
   "cell_type": "code",
   "execution_count": 1,
   "metadata": {},
   "outputs": [
    {
     "name": "stdout",
     "output_type": "stream",
     "text": [
      "The sum of all the multiples of 3 or 5 below 1000 is: 233168\n"
     ]
    }
   ],
   "source": [
    "total = 0\n",
    "maximum = 1000\n",
    "\n",
    "for i in range(maximum):\n",
    "    if i%3 == 0:\n",
    "        total = total+i\n",
    "    elif i%5 == 0:\n",
    "        total = total+i\n",
    "        \n",
    "print(f'The sum of all the multiples of 3 or 5 below {maximum} is: {total}')"
   ]
  },
  {
   "cell_type": "markdown",
   "metadata": {},
   "source": [
    "While adding up all of the multiples of 3 or 5 below 1000 is certainly possible by hand, as you increase that maximum number of 1000, it takes significantly more time to do so.  But in Python, it takes seconds to change your **parameters** to higher values.  It may take a lot of time to run on your machine if you make the numbers too high, but you will be able to walk away and not spend your own time adding up the multiples."
   ]
  },
  {
   "cell_type": "markdown",
   "metadata": {},
   "source": [
    "### Some Key Terms"
   ]
  },
  {
   "cell_type": "markdown",
   "metadata": {},
   "source": [
    "**Parameter**: A parameter is a constant value in a model, that describes a characteristic of the model.  It only changes when you want to adjust the behavior of your model.  It is represented by a letter/word, but it is not to be confused with a **variable**, even though it is initialized the same way as a variable, and is even called a 'variable' in Python."
   ]
  },
  {
   "cell_type": "markdown",
   "metadata": {},
   "source": [
    "**Variable**: A variable is a changing value in a model, that stores the result of the simulation."
   ]
  },
  {
   "cell_type": "markdown",
   "metadata": {},
   "source": [
    "### Example Broken Down"
   ]
  },
  {
   "cell_type": "markdown",
   "metadata": {},
   "source": [
    "This is a simple simulation, but it is still worth looking at line-by-line so we know what is going on."
   ]
  },
  {
   "cell_type": "markdown",
   "metadata": {},
   "source": [
    "In line 1, the variable *total* is initialized by setting it equal to 0.  This must be done in order to 'define' variables to be used later in your code.  *Total* is a variable because it stores the result of the simulation - which is the sum of all multiples of 3 and 5 below 1000.\n",
    "\n",
    "In line 2, the parameter *maximum* is initialized by setting it equal to 1000.  *Maximum* is a parameter because it can be changed if you wanted to adjust the behavior of the model - in this case, you would be adjusting the maximum multiple of 3 and 5 that you add with the rest."
   ]
  },
  {
   "cell_type": "markdown",
   "metadata": {},
   "source": [
    "Lines 1 and 2 represent the first step of solving this problem.  Defining your variables and parameters is critical to understanding what is actually happening in the equation.\n",
    "\n",
    "The next step is figuring out the equation for your simulation.  In this case, it is very simple - just a running total.  You can see this equation in lines 6 and 8.\n",
    "\n",
    "Finally, you must run a loop over this equation to simulate you doing the problem by hand, which can be seen in lines 4 through 8.  This is the tedious step, and where programming shines.\n",
    "\n",
    "A **for** loop uses a counter to iterate over its commands.  An **if** statement evaluates on a True/False basis and executes its commands if its condition evaluates to True.\n",
    "\n",
    "This simulation's loop uses a few **Python operators** to solve this problem, which will be discussed in the next section.\n",
    "\n",
    "Finally, in line 10, a **print** statement is used to print the output of the simulation, giving the total of sum of all multiples of 3 or 5 below 1000.  More print statements can be used within the loop to give more detail to how the code runs, or you could even forgo the final print statement and just leave the answer stored in the *total* variable."
   ]
  },
  {
   "cell_type": "markdown",
   "metadata": {},
   "source": [
    "# Python Operators"
   ]
  },
  {
   "cell_type": "markdown",
   "metadata": {},
   "source": [
    "## Basic Arithmetic"
   ]
  },
  {
   "cell_type": "markdown",
   "metadata": {},
   "source": [
    "Python's arithmetic operators are mostly the same as their handwritten counterparts.\n",
    "\n",
    "**+** is for addition.\n",
    "\n",
    "**-** is for subtraction.\n",
    "\n",
    "__*__ is for multiplication.\n",
    "\n",
    "**/** is for division.\n",
    "\n",
    "__**__ is for exponents.  This is different from a **^** that is used in many other syntaxes."
   ]
  },
  {
   "cell_type": "markdown",
   "metadata": {},
   "source": [
    "## Uncommon Operators"
   ]
  },
  {
   "cell_type": "markdown",
   "metadata": {},
   "source": [
    "This problem requires a few uncommon operators that are very useful in Python.\n",
    "\n",
    "**%** is called *modulus* and it returns the remaining integer of division of two numbers.\n",
    "\n",
    "**==** is for checking equality, not to be confused with **=**, which is for variable assignment in Python.  This is used in this problem to check if the quotient of two numbers has a remainder.\n",
    "\n",
    "In this case, **%** and **==** are used to check if each number in the range is divisible by 3 or 5.  If the modulus operation returns a 0 value, that means the remainder is equal to 0, so the number divided is a multiple of 3 or 5."
   ]
  },
  {
   "cell_type": "markdown",
   "metadata": {},
   "source": [
    "# Another Simulation - Insect Outbreak"
   ]
  },
  {
   "cell_type": "markdown",
   "metadata": {},
   "source": [
    "## Background"
   ]
  },
  {
   "cell_type": "markdown",
   "metadata": {},
   "source": [
    "Insect Outbreak was a 1978 study conducted by Ludwig et al. which developed a model for the outbreak of a population of budworms.  The study can be found in the Modules folder of the SCI378 Canvas class, or another version of it can be found at this link: http://web.math.ku.dk/~moller/e04/bio/ludwig78.pdf."
   ]
  },
  {
   "cell_type": "markdown",
   "metadata": {},
   "source": [
    "## Defaults Setup (Ignore)"
   ]
  },
  {
   "cell_type": "code",
   "execution_count": 2,
   "metadata": {
    "code_folding": []
   },
   "outputs": [],
   "source": [
    "import numpy as np\n",
    "import pandas as pd\n",
    "import matplotlib.pyplot as plt\n",
    "from matplotlib import rcParams\n",
    "\n",
    "plt.fontsize=20\n",
    "rcParams['font.size']=plt.fontsize\n",
    "rcParams['font.family']='sans-serif'\n",
    "\n",
    "rcParams['axes.labelsize']=plt.fontsize\n",
    "rcParams['axes.titlesize']=plt.fontsize\n",
    "rcParams['xtick.labelsize']=plt.fontsize\n",
    "rcParams['ytick.labelsize']=plt.fontsize\n",
    "rcParams['legend.fontsize']=plt.fontsize\n",
    "\n",
    "rcParams['figure.figsize']=(12,8)\n",
    "\n",
    "rcParams['axes.grid']=True  # <------ Expand this function to view the code to set imports and default plotting settings"
   ]
  },
  {
   "cell_type": "markdown",
   "metadata": {},
   "source": [
    "## Insect Outbreak Simulation"
   ]
  },
  {
   "cell_type": "code",
   "execution_count": 3,
   "metadata": {},
   "outputs": [],
   "source": [
    "#parameters\n",
    "r = 0.4 #Growth Rate\n",
    "k = 300 #Carrying Capacity\n",
    "\n",
    "#variables\n",
    "x = 1\n",
    "\n",
    "#time\n",
    "dt= 0.001\n",
    "t= 0\n",
    "\n",
    "#repeats\n",
    "max_repeats = 20\n",
    "number_of_repeats = int(max_repeats/dt)\n",
    "\n",
    "#lists\n",
    "x_list = []\n",
    "t_list = []\n",
    "\n",
    "#simulation\n",
    "for i in range(number_of_repeats):\n",
    "    dx = dt * (r*x*(1-x/k)-x**2/1+x**2)\n",
    "    #print(f'x is {x},t is {t}, dx = {dx}')   <----- Used to see if the model was working\n",
    "    x = x + dx\n",
    "    t = t + dt\n",
    "    \n",
    "    x_list.append(x)\n",
    "    t_list.append(t)"
   ]
  },
  {
   "cell_type": "markdown",
   "metadata": {},
   "source": [
    "## Example Broken Down"
   ]
  },
  {
   "cell_type": "markdown",
   "metadata": {},
   "source": [
    "This simulation is more complex than the first and requires more explanation."
   ]
  },
  {
   "cell_type": "markdown",
   "metadata": {},
   "source": [
    "In lines 1-3, the parameters for the system are defined.  **r** is the growth rate of the insect population.  **k** is the carrying capacity of the environment, or the maximum number of insects that can survive in that population.\n",
    "\n",
    "In lines 5-6, the variable of the equation **x** is initialized.  **x** represents the count of insects in the population, and it will change over time, since it is a variable.\n",
    "\n",
    "In lines 8-10, time is initialized as **t**, as is the time step for the simulation, **dt**, which is how much time will go by in each iteration of the simulation's loop.\n",
    "\n",
    "In lines 12-14, time and time step are translated to numbers that will run correctly in Python.  **max_repeats** is the time limit for the simulation, and **number_of_repeats** divides this time limit by the time step in order to have the correct integer to count up to in the range function below.\n",
    "\n",
    "In lines 16-18, lists are initialized to store the results for **x** and **t** so that they can be graphed later, in order to visualize the system over time.\n",
    "\n",
    "Finally, lines 21-28 is the **for** loop that runs the simulation.  It evaluates the differential equation seen in line 22 at each iteration in the loop, updates the values of **x** and **t**, and appends each list with its corresponding value for that iteration."
   ]
  },
  {
   "cell_type": "markdown",
   "metadata": {},
   "source": [
    "## Visualizing a Simulation "
   ]
  },
  {
   "cell_type": "markdown",
   "metadata": {},
   "source": [
    "In Python, **matplotlib** is the most popular library for visualizing data.  It works at a very simple level, and can be used in a bare-bones style, or it can be extremely in-depth, and be used to create very complicated figures.\n",
    "\n",
    "Note: My default settings for **matplotlib** can be seen above in section 6.2."
   ]
  },
  {
   "cell_type": "code",
   "execution_count": 4,
   "metadata": {},
   "outputs": [
    {
     "data": {
      "text/plain": [
       "Text(0, 0.5, 'Insect Population')"
      ]
     },
     "execution_count": 4,
     "metadata": {},
     "output_type": "execute_result"
    },
    {
     "data": {
      "image/png": "[encoded data removed]",
      "text/plain": [
       "<Figure size 864x576 with 1 Axes>"
      ]
     },
     "metadata": {
      "needs_background": "light"
     },
     "output_type": "display_data"
    }
   ],
   "source": [
    "plt.plot(t_list, x_list)\n",
    "plt.title('Insect Outbreak over Time')\n",
    "plt.xlabel('Time')\n",
    "plt.ylabel('Insect Population')"
   ]
  },
  {
   "cell_type": "markdown",
   "metadata": {},
   "source": [
    "As you can see in this graph, over time, the insect population grows exponentially, and then slows and approaching no growth as it reaches the carrying capacity for the system.\n",
    "\n",
    "You CAN change the parameters of a system.  In this system, changing the growth rate just changes the speed that the Insect Outbreak happens.  However, if you make the growth rate negative, the population will not outbreak but will decline, since the population will not grow.  If you change the carrying capacity, then the population will grow to a higher count of insects before slowing and approaching no growth."
   ]
  },
  {
   "cell_type": "markdown",
   "metadata": {},
   "source": [
    "# Comparing Data - U.S. Fertility Rates"
   ]
  },
  {
   "cell_type": "markdown",
   "metadata": {},
   "source": [
    "## Background"
   ]
  },
  {
   "cell_type": "markdown",
   "metadata": {},
   "source": [
    "While people are not quite the same as insects, the population of humans also can experience growth, or in this case, decline.\n",
    "\n",
    "You do not need to run a simulation if you already have the data for a problem.  However, you need a way to load it into Python.  This can be done using the library **Pandas**."
   ]
  },
  {
   "cell_type": "markdown",
   "metadata": {},
   "source": [
    "## Loading Data into Python"
   ]
  },
  {
   "cell_type": "markdown",
   "metadata": {},
   "source": [
    "Pandas is a Python library that uses a data structure called the **DataFrame**.  A **DataFrame** is a heterogenous data structure (it can store different data types in the same table).  It can load data from a **.csv** or a **.xlsx** (Excel) file, or in many other ways.  In this case, the U.S. Fertility Rate data comes from a CSV from https://ourworldindata.org/fertility-rate ."
   ]
  },
  {
   "cell_type": "code",
   "execution_count": 5,
   "metadata": {},
   "outputs": [],
   "source": [
    "df = pd.read_csv('children-per-woman-UN.csv')\n",
    "df = df.loc[df['Entity'] == 'United States'] #Original dataset had data for many countries\n",
    "df = df.rename(columns={'Estimates, 1950 - 2015: Demographic Indicators - Total fertility (live births per woman) (live births per woman)': 'Births per Woman'})"
   ]
  },
  {
   "cell_type": "markdown",
   "metadata": {},
   "source": [
    "The command **pd.read_csv(...)** uses the file path to load the data into a DataFrame (in this case called *df*).\n",
    "\n",
    "The command **df.loc** was used to filter just the data from the United States for simplicity's sake and re-assign just that data to *df*.\n",
    "\n",
    "The command **df.name** was used to change long column names from the dataset to simple names."
   ]
  },
  {
   "cell_type": "markdown",
   "metadata": {},
   "source": [
    "The command **df.head** outputs the first 5 rows of a DataFrame (or however many you specify as a parameter) for fast viewing."
   ]
  },
  {
   "cell_type": "code",
   "execution_count": 6,
   "metadata": {},
   "outputs": [
    {
     "data": {
      "text/html": [
       "<div>\n",
       "<style scoped>\n",
       "    .dataframe tbody tr th:only-of-type {\n",
       "        vertical-align: middle;\n",
       "    }\n",
       "\n",
       "    .dataframe tbody tr th {\n",
       "        vertical-align: top;\n",
       "    }\n",
       "\n",
       "    .dataframe thead th {\n",
       "        text-align: right;\n",
       "    }\n",
       "</style>\n",
       "<table border=\"1\" class=\"dataframe\">\n",
       "  <thead>\n",
       "    <tr style=\"text-align: right;\">\n",
       "      <th></th>\n",
       "      <th>Entity</th>\n",
       "      <th>Code</th>\n",
       "      <th>Year</th>\n",
       "      <th>Births per Woman</th>\n",
       "    </tr>\n",
       "  </thead>\n",
       "  <tbody>\n",
       "    <tr>\n",
       "      <th>14850</th>\n",
       "      <td>United States</td>\n",
       "      <td>USA</td>\n",
       "      <td>1950</td>\n",
       "      <td>3.052</td>\n",
       "    </tr>\n",
       "    <tr>\n",
       "      <th>14851</th>\n",
       "      <td>United States</td>\n",
       "      <td>USA</td>\n",
       "      <td>1951</td>\n",
       "      <td>3.130</td>\n",
       "    </tr>\n",
       "    <tr>\n",
       "      <th>14852</th>\n",
       "      <td>United States</td>\n",
       "      <td>USA</td>\n",
       "      <td>1952</td>\n",
       "      <td>3.272</td>\n",
       "    </tr>\n",
       "    <tr>\n",
       "      <th>14853</th>\n",
       "      <td>United States</td>\n",
       "      <td>USA</td>\n",
       "      <td>1953</td>\n",
       "      <td>3.389</td>\n",
       "    </tr>\n",
       "    <tr>\n",
       "      <th>14854</th>\n",
       "      <td>United States</td>\n",
       "      <td>USA</td>\n",
       "      <td>1954</td>\n",
       "      <td>3.479</td>\n",
       "    </tr>\n",
       "  </tbody>\n",
       "</table>\n",
       "</div>"
      ],
      "text/plain": [
       "              Entity Code  Year  Births per Woman\n",
       "14850  United States  USA  1950             3.052\n",
       "14851  United States  USA  1951             3.130\n",
       "14852  United States  USA  1952             3.272\n",
       "14853  United States  USA  1953             3.389\n",
       "14854  United States  USA  1954             3.479"
      ]
     },
     "execution_count": 6,
     "metadata": {},
     "output_type": "execute_result"
    }
   ],
   "source": [
    "df.head()"
   ]
  },
  {
   "cell_type": "markdown",
   "metadata": {},
   "source": [
    "## Comparison Data Plotted"
   ]
  },
  {
   "cell_type": "code",
   "execution_count": 7,
   "metadata": {},
   "outputs": [
    {
     "data": {
      "text/plain": [
       "Text(0, 0.5, 'Average Births Per Woman')"
      ]
     },
     "execution_count": 7,
     "metadata": {},
     "output_type": "execute_result"
    },
    {
     "data": {
      "image/png": "[encoded data removed]",
      "text/plain": [
       "<Figure size 864x576 with 1 Axes>"
      ]
     },
     "metadata": {
      "needs_background": "light"
     },
     "output_type": "display_data"
    }
   ],
   "source": [
    "plt.plot(df['Year'],df['Births per Woman'],marker='o') #Births per Woman by Year\n",
    "plt.title('U.S. Fertility Rate Since 1950')\n",
    "plt.xlabel('Year')\n",
    "plt.ylabel('Average Births Per Woman')"
   ]
  },
  {
   "cell_type": "markdown",
   "metadata": {},
   "source": [
    "Clearly there is no human outbreak in the United States over the past 70 years.\n",
    "\n",
    "Since many people born in the 1950s are still alive, the lack of children being born in more recent years will cause unbalance in the age of the population, with more old people than young people."
   ]
  },
  {
   "cell_type": "markdown",
   "metadata": {},
   "source": [
    "In code, we typically use large sans-serif fonts, large plots, and a variety of line and marker types.  For a simulation, we don't use markers because the data is continuous.  However, when you have actual data, it is good to use markers because each data point is a discrete point on the graph that can be marked."
   ]
  },
  {
   "cell_type": "markdown",
   "metadata": {},
   "source": [
    "# Conclusion"
   ]
  },
  {
   "cell_type": "markdown",
   "metadata": {},
   "source": [
    "The objective was for you to learn how to use Python to run and visualize mathematical simulations and data of theoretical and real-world systems.\n",
    "\n",
    "Now that you have completed this tutorial, you are able to understand the logic of an algorithm or program, know what the python operators do and when to use them, understand the relationship between math and programming, and know how to utilize Pandas and other packages to clearly view and present data.\n",
    "\n",
    "If you have further questions, feel free to contact me through email or another means.\n",
    "\n",
    "Congratulations!"
   ]
  }
 ],
 "metadata": {
  "kernelspec": {
   "display_name": "Python 3",
   "language": "python",
   "name": "python3"
  },
  "language_info": {
   "codemirror_mode": {
    "name": "ipython",
    "version": 3
   },
   "file_extension": ".py",
   "mimetype": "text/x-python",
   "name": "python",
   "nbconvert_exporter": "python",
   "pygments_lexer": "ipython3",
   "version": "3.6.10"
  },
  "toc": {
   "base_numbering": 1,
   "nav_menu": {},
   "number_sections": true,
   "sideBar": true,
   "skip_h1_title": false,
   "title_cell": "Table of Contents",
   "title_sidebar": "Contents",
   "toc_cell": false,
   "toc_position": {
    "height": "calc(100% - 180px)",
    "left": "10px",
    "top": "150px",
    "width": "315.833px"
   },
   "toc_section_display": true,
   "toc_window_display": true
  }
 },
 "nbformat": 4,
 "nbformat_minor": 2
}
